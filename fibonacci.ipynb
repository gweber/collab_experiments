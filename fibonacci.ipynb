{
  "nbformat": 4,
  "nbformat_minor": 0,
  "metadata": {
    "colab": {
      "name": "fibonacci.ipynb",
      "provenance": [],
      "include_colab_link": true
    },
    "kernelspec": {
      "name": "python3",
      "display_name": "Python 3"
    }
  },
  "cells": [
    {
      "cell_type": "markdown",
      "metadata": {
        "id": "view-in-github",
        "colab_type": "text"
      },
      "source": [
        "<a href=\"https://colab.research.google.com/github/gweber/collab_experiments/blob/master/fibonacci.ipynb\" target=\"_parent\"><img src=\"https://colab.research.google.com/assets/colab-badge.svg\" alt=\"Open In Colab\"/></a>"
      ]
    },
    {
      "cell_type": "code",
      "metadata": {
        "id": "X9FdR8-6JRm1",
        "colab_type": "code",
        "colab": {}
      },
      "source": [
        "def fibonacci(n=10):\n",
        "\ttemp = [0,1]\n",
        "\tfor __ in range(n):\n",
        "\t\ttemp = [ temp[1], sum(temp)]\n",
        "\treturn temp[0]"
      ],
      "execution_count": 0,
      "outputs": []
    },
    {
      "cell_type": "code",
      "metadata": {
        "id": "1SRL91fbJYr8",
        "colab_type": "code",
        "colab": {
          "base_uri": "https://localhost:8080/",
          "height": 34
        },
        "outputId": "8ec626d6-1320-425e-a9eb-27c14f931532"
      },
      "source": [
        "timeit fibonacci(200000)"
      ],
      "execution_count": 7,
      "outputs": [
        {
          "output_type": "stream",
          "text": [
            "1 loop, best of 3: 958 ms per loop\n"
          ],
          "name": "stdout"
        }
      ]
    }
  ]
}